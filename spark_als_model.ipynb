{
 "cells": [
  {
   "cell_type": "code",
   "execution_count": 1,
   "metadata": {},
   "outputs": [],
   "source": [
    "%matplotlib inline\n",
    "\n",
    "import matplotlib\n",
    "import matplotlib.pyplot as plt\n",
    "\n",
    "import pyspark.sql.functions as sql_func\n",
    "from pyspark.sql.types import *\n",
    "from pyspark.ml.recommendation import ALS, ALSModel\n",
    "\n",
    "import pandas as pd"
   ]
  },
  {
   "cell_type": "markdown",
   "metadata": {},
   "source": [
    "# Load data"
   ]
  },
  {
   "cell_type": "code",
   "execution_count": 2,
   "metadata": {},
   "outputs": [],
   "source": [
    "data_schema = StructType([\n",
    "    StructField('session_start_datetime',TimestampType(), False),\n",
    "    StructField('user_id',IntegerType(), False),\n",
    "    StructField('user_ip',IntegerType(), False),\n",
    "    StructField('primary_video_id',IntegerType(), False),\n",
    "    StructField('video_id',IntegerType(), False),\n",
    "    StructField('vod_type',StringType(), False),\n",
    "    StructField('session_duration',IntegerType(), False),\n",
    "    StructField('device_type',StringType(), False),\n",
    "    StructField('device_os',StringType(), False),\n",
    "    StructField('player_position_min',LongType(), False),\n",
    "    StructField('player_position_max',LongType(), False),\n",
    "    StructField('time_cumsum_max',LongType(), False),\n",
    "    StructField('video_duration',IntegerType(), False),\n",
    "    StructField('watching_percentage',FloatType(), False)\n",
    "])\n",
    "final_stat = spark.read.csv(\n",
    "    './output/train_data_full.csv', header=True, schema=data_schema\n",
    ").cache()\n",
    "\n",
    "assert(final_stat.count() == 7964397)"
   ]
  },
  {
   "cell_type": "code",
   "execution_count": 3,
   "metadata": {},
   "outputs": [
    {
     "data": {
      "text/html": [
       "<div>\n",
       "<style scoped>\n",
       "    .dataframe tbody tr th:only-of-type {\n",
       "        vertical-align: middle;\n",
       "    }\n",
       "\n",
       "    .dataframe tbody tr th {\n",
       "        vertical-align: top;\n",
       "    }\n",
       "\n",
       "    .dataframe thead th {\n",
       "        text-align: right;\n",
       "    }\n",
       "</style>\n",
       "<table border=\"1\" class=\"dataframe\">\n",
       "  <thead>\n",
       "    <tr style=\"text-align: right;\">\n",
       "      <th></th>\n",
       "      <th>session_start_datetime</th>\n",
       "      <th>user_id</th>\n",
       "      <th>user_ip</th>\n",
       "      <th>primary_video_id</th>\n",
       "      <th>video_id</th>\n",
       "      <th>vod_type</th>\n",
       "      <th>session_duration</th>\n",
       "      <th>device_type</th>\n",
       "      <th>device_os</th>\n",
       "      <th>player_position_min</th>\n",
       "      <th>player_position_max</th>\n",
       "      <th>time_cumsum_max</th>\n",
       "      <th>video_duration</th>\n",
       "      <th>watching_percentage</th>\n",
       "    </tr>\n",
       "  </thead>\n",
       "  <tbody>\n",
       "    <tr>\n",
       "      <th>0</th>\n",
       "      <td>2018-07-01 00:00:02.135</td>\n",
       "      <td>21603820</td>\n",
       "      <td>27241033</td>\n",
       "      <td>9583642</td>\n",
       "      <td>9583642</td>\n",
       "      <td>svod</td>\n",
       "      <td>688</td>\n",
       "      <td>web</td>\n",
       "      <td>Windows_10</td>\n",
       "      <td>6940</td>\n",
       "      <td>6940</td>\n",
       "      <td>93</td>\n",
       "      <td>8198</td>\n",
       "      <td>0.0839</td>\n",
       "    </tr>\n",
       "    <tr>\n",
       "      <th>1</th>\n",
       "      <td>2018-07-01 00:00:02.232</td>\n",
       "      <td>35636970</td>\n",
       "      <td>10887511</td>\n",
       "      <td>24645936</td>\n",
       "      <td>24645936</td>\n",
       "      <td>advod</td>\n",
       "      <td>3174</td>\n",
       "      <td>mobile</td>\n",
       "      <td>android</td>\n",
       "      <td>599</td>\n",
       "      <td>3173</td>\n",
       "      <td>0</td>\n",
       "      <td>5297</td>\n",
       "      <td>0.5990</td>\n",
       "    </tr>\n",
       "    <tr>\n",
       "      <th>2</th>\n",
       "      <td>2018-07-01 00:00:06.961</td>\n",
       "      <td>78312976</td>\n",
       "      <td>15427448</td>\n",
       "      <td>25397362</td>\n",
       "      <td>23346676</td>\n",
       "      <td>advod</td>\n",
       "      <td>3054</td>\n",
       "      <td>tv</td>\n",
       "      <td>samsung</td>\n",
       "      <td>599</td>\n",
       "      <td>3052</td>\n",
       "      <td>3032</td>\n",
       "      <td>3052</td>\n",
       "      <td>1.0000</td>\n",
       "    </tr>\n",
       "    <tr>\n",
       "      <th>3</th>\n",
       "      <td>2018-07-01 00:00:11.044</td>\n",
       "      <td>122261599</td>\n",
       "      <td>12021384</td>\n",
       "      <td>5205267</td>\n",
       "      <td>22898606</td>\n",
       "      <td>svod</td>\n",
       "      <td>2400</td>\n",
       "      <td>tv</td>\n",
       "      <td>netcast</td>\n",
       "      <td>600</td>\n",
       "      <td>2400</td>\n",
       "      <td>2378</td>\n",
       "      <td>2638</td>\n",
       "      <td>0.9100</td>\n",
       "    </tr>\n",
       "    <tr>\n",
       "      <th>4</th>\n",
       "      <td>2018-07-01 00:00:14.054</td>\n",
       "      <td>53477088</td>\n",
       "      <td>65858458</td>\n",
       "      <td>14098190</td>\n",
       "      <td>14098190</td>\n",
       "      <td>advod</td>\n",
       "      <td>2481</td>\n",
       "      <td>tv</td>\n",
       "      <td>webos</td>\n",
       "      <td>137</td>\n",
       "      <td>4849</td>\n",
       "      <td>2316</td>\n",
       "      <td>5115</td>\n",
       "      <td>0.4850</td>\n",
       "    </tr>\n",
       "  </tbody>\n",
       "</table>\n",
       "</div>"
      ],
      "text/plain": [
       "   session_start_datetime    user_id   user_ip  primary_video_id  video_id  \\\n",
       "0 2018-07-01 00:00:02.135   21603820  27241033           9583642   9583642   \n",
       "1 2018-07-01 00:00:02.232   35636970  10887511          24645936  24645936   \n",
       "2 2018-07-01 00:00:06.961   78312976  15427448          25397362  23346676   \n",
       "3 2018-07-01 00:00:11.044  122261599  12021384           5205267  22898606   \n",
       "4 2018-07-01 00:00:14.054   53477088  65858458          14098190  14098190   \n",
       "\n",
       "  vod_type  session_duration device_type   device_os  player_position_min  \\\n",
       "0     svod               688         web  Windows_10                 6940   \n",
       "1    advod              3174      mobile     android                  599   \n",
       "2    advod              3054          tv     samsung                  599   \n",
       "3     svod              2400          tv     netcast                  600   \n",
       "4    advod              2481          tv       webos                  137   \n",
       "\n",
       "   player_position_max  time_cumsum_max  video_duration  watching_percentage  \n",
       "0                 6940               93            8198               0.0839  \n",
       "1                 3173                0            5297               0.5990  \n",
       "2                 3052             3032            3052               1.0000  \n",
       "3                 2400             2378            2638               0.9100  \n",
       "4                 4849             2316            5115               0.4850  "
      ]
     },
     "execution_count": 3,
     "metadata": {},
     "output_type": "execute_result"
    }
   ],
   "source": [
    "final_stat.limit(5).toPandas()"
   ]
  },
  {
   "cell_type": "code",
   "execution_count": 4,
   "metadata": {},
   "outputs": [
    {
     "data": {
      "text/plain": [
       "5536587"
      ]
     },
     "execution_count": 4,
     "metadata": {},
     "output_type": "execute_result"
    }
   ],
   "source": [
    "final_stat.where('watching_percentage >= 0.5').count()"
   ]
  },
  {
   "cell_type": "code",
   "execution_count": 5,
   "metadata": {},
   "outputs": [
    {
     "data": {
      "text/plain": [
       "2427810"
      ]
     },
     "execution_count": 5,
     "metadata": {},
     "output_type": "execute_result"
    }
   ],
   "source": [
    "final_stat.where('watching_percentage < 0.5').count()"
   ]
  },
  {
   "cell_type": "code",
   "execution_count": 6,
   "metadata": {},
   "outputs": [
    {
     "data": {
      "text/plain": [
       "402009"
      ]
     },
     "execution_count": 6,
     "metadata": {},
     "output_type": "execute_result"
    }
   ],
   "source": [
    "final_stat.select('user_id').distinct().count()"
   ]
  },
  {
   "cell_type": "code",
   "execution_count": 7,
   "metadata": {},
   "outputs": [
    {
     "data": {
      "text/plain": [
       "array([[<matplotlib.axes._subplots.AxesSubplot object at 0x7f7df450ea58>]],\n",
       "      dtype=object)"
      ]
     },
     "execution_count": 7,
     "metadata": {},
     "output_type": "execute_result"
    },
    {
     "data": {
      "image/png": "[encoded data removed]",
      "text/plain": [
       "<matplotlib.figure.Figure at 0x7f7e148e7320>"
      ]
     },
     "metadata": {},
     "output_type": "display_data"
    }
   ],
   "source": [
    "final_stat.select('watching_percentage').toPandas().hist()"
   ]
  },
  {
   "cell_type": "code",
   "execution_count": null,
   "metadata": {},
   "outputs": [],
   "source": []
  },
  {
   "cell_type": "markdown",
   "metadata": {},
   "source": [
    "## ALS"
   ]
  },
  {
   "cell_type": "markdown",
   "metadata": {},
   "source": [
    "### train"
   ]
  },
  {
   "cell_type": "code",
   "execution_count": 8,
   "metadata": {},
   "outputs": [],
   "source": [
    "ratings = (final_stat\n",
    "    .select(\n",
    "        'user_id',\n",
    "        'primary_video_id',\n",
    "        'watching_percentage',\n",
    "    )\n",
    ").repartition(200).cache()"
   ]
  },
  {
   "cell_type": "code",
   "execution_count": 9,
   "metadata": {},
   "outputs": [
    {
     "name": "stdout",
     "output_type": "stream",
     "text": [
      "CPU times: user 32 ms, sys: 48 ms, total: 80 ms\n",
      "Wall time: 2.53 s\n"
     ]
    },
    {
     "data": {
      "text/plain": [
       "7964397"
      ]
     },
     "execution_count": 9,
     "metadata": {},
     "output_type": "execute_result"
    }
   ],
   "source": [
    "%%time\n",
    "ratings.count()"
   ]
  },
  {
   "cell_type": "code",
   "execution_count": 10,
   "metadata": {},
   "outputs": [
    {
     "name": "stdout",
     "output_type": "stream",
     "text": [
      "CPU times: user 40 ms, sys: 8 ms, total: 48 ms\n",
      "Wall time: 6min 31s\n"
     ]
    }
   ],
   "source": [
    "%%time\n",
    "als = ALS(rank=100, maxIter=10,\n",
    "          implicitPrefs=True,\n",
    "          regParam=1,\n",
    "          alpha=50,\n",
    "          userCol=\"user_id\", itemCol=\"primary_video_id\", ratingCol=\"watching_percentage\",\n",
    "          numUserBlocks=32, numItemBlocks=32,\n",
    "          coldStartStrategy=\"drop\")\n",
    "model = als.fit(ratings)"
   ]
  },
  {
   "cell_type": "markdown",
   "metadata": {},
   "source": [
    "### predict"
   ]
  },
  {
   "cell_type": "code",
   "execution_count": 11,
   "metadata": {},
   "outputs": [
    {
     "name": "stdout",
     "output_type": "stream",
     "text": [
      "CPU times: user 0 ns, sys: 4 ms, total: 4 ms\n",
      "Wall time: 44.1 s\n"
     ]
    }
   ],
   "source": [
    "%%time\n",
    "userRecsDf = model.recommendForAllUsers(10).cache()\n",
    "userRecsDf.count()"
   ]
  },
  {
   "cell_type": "code",
   "execution_count": 12,
   "metadata": {},
   "outputs": [
    {
     "data": {
      "text/plain": [
       "(402009, 2)"
      ]
     },
     "execution_count": 12,
     "metadata": {},
     "output_type": "execute_result"
    }
   ],
   "source": [
    "userRecs = userRecsDf.toPandas()\n",
    "userRecs.shape"
   ]
  },
  {
   "cell_type": "code",
   "execution_count": 13,
   "metadata": {},
   "outputs": [
    {
     "data": {
      "text/html": [
       "<div>\n",
       "<style scoped>\n",
       "    .dataframe tbody tr th:only-of-type {\n",
       "        vertical-align: middle;\n",
       "    }\n",
       "\n",
       "    .dataframe tbody tr th {\n",
       "        vertical-align: top;\n",
       "    }\n",
       "\n",
       "    .dataframe thead th {\n",
       "        text-align: right;\n",
       "    }\n",
       "</style>\n",
       "<table border=\"1\" class=\"dataframe\">\n",
       "  <thead>\n",
       "    <tr style=\"text-align: right;\">\n",
       "      <th></th>\n",
       "      <th>user_id</th>\n",
       "      <th>recommendations</th>\n",
       "    </tr>\n",
       "  </thead>\n",
       "  <tbody>\n",
       "    <tr>\n",
       "      <th>0</th>\n",
       "      <td>7340</td>\n",
       "      <td>[(8967793, 0.9486003518104553), (14535101, 0.9...</td>\n",
       "    </tr>\n",
       "    <tr>\n",
       "      <th>1</th>\n",
       "      <td>28577</td>\n",
       "      <td>[(21146883, 0.9631668925285339), (762848, 0.94...</td>\n",
       "    </tr>\n",
       "  </tbody>\n",
       "</table>\n",
       "</div>"
      ],
      "text/plain": [
       "   user_id                                    recommendations\n",
       "0     7340  [(8967793, 0.9486003518104553), (14535101, 0.9...\n",
       "1    28577  [(21146883, 0.9631668925285339), (762848, 0.94..."
      ]
     },
     "execution_count": 13,
     "metadata": {},
     "output_type": "execute_result"
    }
   ],
   "source": [
    "userRecs[:2]"
   ]
  },
  {
   "cell_type": "code",
   "execution_count": 14,
   "metadata": {},
   "outputs": [
    {
     "data": {
      "text/plain": [
       "402009"
      ]
     },
     "execution_count": 14,
     "metadata": {},
     "output_type": "execute_result"
    }
   ],
   "source": [
    "predicted_dict = userRecs.set_index('user_id').to_dict('index')\n",
    "predicted_dict = {user_id:[r[0] for r in recs['recommendations']] for user_id, recs in predicted_dict.items()}\n",
    "len(predicted_dict)"
   ]
  },
  {
   "cell_type": "markdown",
   "metadata": {},
   "source": [
    "### save"
   ]
  },
  {
   "cell_type": "code",
   "execution_count": 15,
   "metadata": {},
   "outputs": [],
   "source": [
    "sample_submission = pd.read_csv('./output/sample_submission_full.csv')"
   ]
  },
  {
   "cell_type": "code",
   "execution_count": 16,
   "metadata": {},
   "outputs": [],
   "source": [
    "sample_submission['als_predicted_primary_video_id'] = sample_submission.user_id.apply(\n",
    "    lambda user_id: ' '.join([str(v) for v in predicted_dict[user_id]]) if user_id in predicted_dict else None)"
   ]
  },
  {
   "cell_type": "code",
   "execution_count": 17,
   "metadata": {},
   "outputs": [
    {
     "data": {
      "text/html": [
       "<div>\n",
       "<style scoped>\n",
       "    .dataframe tbody tr th:only-of-type {\n",
       "        vertical-align: middle;\n",
       "    }\n",
       "\n",
       "    .dataframe tbody tr th {\n",
       "        vertical-align: top;\n",
       "    }\n",
       "\n",
       "    .dataframe thead th {\n",
       "        text-align: right;\n",
       "    }\n",
       "</style>\n",
       "<table border=\"1\" class=\"dataframe\">\n",
       "  <thead>\n",
       "    <tr style=\"text-align: right;\">\n",
       "      <th></th>\n",
       "      <th>user_id</th>\n",
       "      <th>primary_video_id</th>\n",
       "      <th>als_predicted_primary_video_id</th>\n",
       "    </tr>\n",
       "  </thead>\n",
       "  <tbody>\n",
       "    <tr>\n",
       "      <th>0</th>\n",
       "      <td>1088</td>\n",
       "      <td>25397362 20236783 24633210 2677761 31588514 22...</td>\n",
       "      <td>None</td>\n",
       "    </tr>\n",
       "    <tr>\n",
       "      <th>1</th>\n",
       "      <td>28577</td>\n",
       "      <td>25397362 20236783 24633210 2677761 31588514 22...</td>\n",
       "      <td>21146883 762848 16385757 22575620 31648077 269...</td>\n",
       "    </tr>\n",
       "    <tr>\n",
       "      <th>2</th>\n",
       "      <td>188122</td>\n",
       "      <td>25397362 20236783 24633210 2677761 31588514 22...</td>\n",
       "      <td>14591932 26320644 26997030 27740348 3551683 31...</td>\n",
       "    </tr>\n",
       "    <tr>\n",
       "      <th>3</th>\n",
       "      <td>235599</td>\n",
       "      <td>25397362 20236783 24633210 2677761 31588514 22...</td>\n",
       "      <td>4889342 6597685 21757334 22328483 17487453 145...</td>\n",
       "    </tr>\n",
       "    <tr>\n",
       "      <th>4</th>\n",
       "      <td>274770</td>\n",
       "      <td>25397362 20236783 24633210 2677761 31588514 22...</td>\n",
       "      <td>30312899 1532356 27946137 31382698 28776964 68...</td>\n",
       "    </tr>\n",
       "    <tr>\n",
       "      <th>5</th>\n",
       "      <td>554364</td>\n",
       "      <td>25397362 20236783 24633210 2677761 31588514 22...</td>\n",
       "      <td>14496524 18775834 10735044 709139 5508300 1216...</td>\n",
       "    </tr>\n",
       "    <tr>\n",
       "      <th>6</th>\n",
       "      <td>564435</td>\n",
       "      <td>25397362 20236783 24633210 2677761 31588514 22...</td>\n",
       "      <td>30222725 192557 30291128 4460659 12153123 1986...</td>\n",
       "    </tr>\n",
       "    <tr>\n",
       "      <th>7</th>\n",
       "      <td>946127</td>\n",
       "      <td>25397362 20236783 24633210 2677761 31588514 22...</td>\n",
       "      <td>31588514 11538360 21426834 11653814 31148166 2...</td>\n",
       "    </tr>\n",
       "    <tr>\n",
       "      <th>8</th>\n",
       "      <td>955946</td>\n",
       "      <td>25397362 20236783 24633210 2677761 31588514 22...</td>\n",
       "      <td>32998109 23987196 19452297 26803805 1958224 13...</td>\n",
       "    </tr>\n",
       "    <tr>\n",
       "      <th>9</th>\n",
       "      <td>1223195</td>\n",
       "      <td>25397362 20236783 24633210 2677761 31588514 22...</td>\n",
       "      <td>22575620 5760990 33252778 1996490 28667563 370...</td>\n",
       "    </tr>\n",
       "  </tbody>\n",
       "</table>\n",
       "</div>"
      ],
      "text/plain": [
       "   user_id                                   primary_video_id  \\\n",
       "0     1088  25397362 20236783 24633210 2677761 31588514 22...   \n",
       "1    28577  25397362 20236783 24633210 2677761 31588514 22...   \n",
       "2   188122  25397362 20236783 24633210 2677761 31588514 22...   \n",
       "3   235599  25397362 20236783 24633210 2677761 31588514 22...   \n",
       "4   274770  25397362 20236783 24633210 2677761 31588514 22...   \n",
       "5   554364  25397362 20236783 24633210 2677761 31588514 22...   \n",
       "6   564435  25397362 20236783 24633210 2677761 31588514 22...   \n",
       "7   946127  25397362 20236783 24633210 2677761 31588514 22...   \n",
       "8   955946  25397362 20236783 24633210 2677761 31588514 22...   \n",
       "9  1223195  25397362 20236783 24633210 2677761 31588514 22...   \n",
       "\n",
       "                      als_predicted_primary_video_id  \n",
       "0                                               None  \n",
       "1  21146883 762848 16385757 22575620 31648077 269...  \n",
       "2  14591932 26320644 26997030 27740348 3551683 31...  \n",
       "3  4889342 6597685 21757334 22328483 17487453 145...  \n",
       "4  30312899 1532356 27946137 31382698 28776964 68...  \n",
       "5  14496524 18775834 10735044 709139 5508300 1216...  \n",
       "6  30222725 192557 30291128 4460659 12153123 1986...  \n",
       "7  31588514 11538360 21426834 11653814 31148166 2...  \n",
       "8  32998109 23987196 19452297 26803805 1958224 13...  \n",
       "9  22575620 5760990 33252778 1996490 28667563 370...  "
      ]
     },
     "execution_count": 17,
     "metadata": {},
     "output_type": "execute_result"
    }
   ],
   "source": [
    "sample_submission[:10]"
   ]
  },
  {
   "cell_type": "code",
   "execution_count": 18,
   "metadata": {},
   "outputs": [],
   "source": [
    "sample_submission['primary_video_id'] = sample_submission.als_predicted_primary_video_id.combine_first(\n",
    "    sample_submission.primary_video_id)\n",
    "del sample_submission['als_predicted_primary_video_id']"
   ]
  },
  {
   "cell_type": "code",
   "execution_count": 19,
   "metadata": {},
   "outputs": [],
   "source": [
    "sample_submission.to_csv('./output/sample_submission_full_als.csv.gz',\n",
    "                         header=True, index=False, compression='gzip')"
   ]
  },
  {
   "cell_type": "code",
   "execution_count": null,
   "metadata": {},
   "outputs": [],
   "source": []
  },
  {
   "cell_type": "code",
   "execution_count": null,
   "metadata": {},
   "outputs": [],
   "source": []
  }
 ],
 "metadata": {
  "kernelspec": {
   "display_name": "Python 3",
   "language": "python",
   "name": "python3"
  },
  "language_info": {
   "codemirror_mode": {
    "name": "ipython",
    "version": 3
   },
   "file_extension": ".py",
   "mimetype": "text/x-python",
   "name": "python",
   "nbconvert_exporter": "python",
   "pygments_lexer": "ipython3",
   "version": "3.5.2"
  }
 },
 "nbformat": 4,
 "nbformat_minor": 2
}

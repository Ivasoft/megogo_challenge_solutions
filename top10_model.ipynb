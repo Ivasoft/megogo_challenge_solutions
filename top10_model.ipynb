{
 "cells": [
  {
   "cell_type": "code",
   "execution_count": 1,
   "metadata": {},
   "outputs": [],
   "source": [
    "import pandas as pd"
   ]
  },
  {
   "cell_type": "markdown",
   "metadata": {},
   "source": [
    "# Load data"
   ]
  },
  {
   "cell_type": "code",
   "execution_count": 2,
   "metadata": {},
   "outputs": [],
   "source": [
    "train_data = pd.read_csv('./output/train_data_full.csv')"
   ]
  },
  {
   "cell_type": "code",
   "execution_count": 3,
   "metadata": {},
   "outputs": [],
   "source": [
    "assert(len(train_data) == 7964397)"
   ]
  },
  {
   "cell_type": "code",
   "execution_count": 4,
   "metadata": {},
   "outputs": [],
   "source": [
    "train_data['session_start_datetime'] = train_data['session_start_datetime'].astype('datetime64[ns]')"
   ]
  },
  {
   "cell_type": "code",
   "execution_count": 5,
   "metadata": {},
   "outputs": [
    {
     "data": {
      "text/plain": [
       "session_start_datetime    datetime64[ns]\n",
       "user_id                            int64\n",
       "user_ip                            int64\n",
       "primary_video_id                   int64\n",
       "video_id                           int64\n",
       "vod_type                          object\n",
       "session_duration                   int64\n",
       "device_type                       object\n",
       "device_os                         object\n",
       "player_position_min                int64\n",
       "player_position_max                int64\n",
       "time_cumsum_max                    int64\n",
       "video_duration                     int64\n",
       "watching_percentage              float64\n",
       "dtype: object"
      ]
     },
     "execution_count": 5,
     "metadata": {},
     "output_type": "execute_result"
    }
   ],
   "source": [
    "train_data.dtypes"
   ]
  },
  {
   "cell_type": "code",
   "execution_count": 6,
   "metadata": {},
   "outputs": [
    {
     "data": {
      "text/html": [
       "<div>\n",
       "<style scoped>\n",
       "    .dataframe tbody tr th:only-of-type {\n",
       "        vertical-align: middle;\n",
       "    }\n",
       "\n",
       "    .dataframe tbody tr th {\n",
       "        vertical-align: top;\n",
       "    }\n",
       "\n",
       "    .dataframe thead th {\n",
       "        text-align: right;\n",
       "    }\n",
       "</style>\n",
       "<table border=\"1\" class=\"dataframe\">\n",
       "  <thead>\n",
       "    <tr style=\"text-align: right;\">\n",
       "      <th></th>\n",
       "      <th>session_start_datetime</th>\n",
       "      <th>user_id</th>\n",
       "      <th>user_ip</th>\n",
       "      <th>primary_video_id</th>\n",
       "      <th>video_id</th>\n",
       "      <th>vod_type</th>\n",
       "      <th>session_duration</th>\n",
       "      <th>device_type</th>\n",
       "      <th>device_os</th>\n",
       "      <th>player_position_min</th>\n",
       "      <th>player_position_max</th>\n",
       "      <th>time_cumsum_max</th>\n",
       "      <th>video_duration</th>\n",
       "      <th>watching_percentage</th>\n",
       "    </tr>\n",
       "  </thead>\n",
       "  <tbody>\n",
       "    <tr>\n",
       "      <th>0</th>\n",
       "      <td>2018-07-01 00:00:02.135</td>\n",
       "      <td>21603820</td>\n",
       "      <td>27241033</td>\n",
       "      <td>9583642</td>\n",
       "      <td>9583642</td>\n",
       "      <td>svod</td>\n",
       "      <td>688</td>\n",
       "      <td>web</td>\n",
       "      <td>Windows_10</td>\n",
       "      <td>6940</td>\n",
       "      <td>6940</td>\n",
       "      <td>93</td>\n",
       "      <td>8198</td>\n",
       "      <td>0.0839</td>\n",
       "    </tr>\n",
       "    <tr>\n",
       "      <th>1</th>\n",
       "      <td>2018-07-01 00:00:02.232</td>\n",
       "      <td>35636970</td>\n",
       "      <td>10887511</td>\n",
       "      <td>24645936</td>\n",
       "      <td>24645936</td>\n",
       "      <td>advod</td>\n",
       "      <td>3174</td>\n",
       "      <td>mobile</td>\n",
       "      <td>android</td>\n",
       "      <td>599</td>\n",
       "      <td>3173</td>\n",
       "      <td>0</td>\n",
       "      <td>5297</td>\n",
       "      <td>0.5990</td>\n",
       "    </tr>\n",
       "    <tr>\n",
       "      <th>2</th>\n",
       "      <td>2018-07-01 00:00:06.961</td>\n",
       "      <td>78312976</td>\n",
       "      <td>15427448</td>\n",
       "      <td>25397362</td>\n",
       "      <td>23346676</td>\n",
       "      <td>advod</td>\n",
       "      <td>3054</td>\n",
       "      <td>tv</td>\n",
       "      <td>samsung</td>\n",
       "      <td>599</td>\n",
       "      <td>3052</td>\n",
       "      <td>3032</td>\n",
       "      <td>3052</td>\n",
       "      <td>1.0000</td>\n",
       "    </tr>\n",
       "    <tr>\n",
       "      <th>3</th>\n",
       "      <td>2018-07-01 00:00:11.044</td>\n",
       "      <td>122261599</td>\n",
       "      <td>12021384</td>\n",
       "      <td>5205267</td>\n",
       "      <td>22898606</td>\n",
       "      <td>svod</td>\n",
       "      <td>2400</td>\n",
       "      <td>tv</td>\n",
       "      <td>netcast</td>\n",
       "      <td>600</td>\n",
       "      <td>2400</td>\n",
       "      <td>2378</td>\n",
       "      <td>2638</td>\n",
       "      <td>0.9100</td>\n",
       "    </tr>\n",
       "    <tr>\n",
       "      <th>4</th>\n",
       "      <td>2018-07-01 00:00:14.054</td>\n",
       "      <td>53477088</td>\n",
       "      <td>65858458</td>\n",
       "      <td>14098190</td>\n",
       "      <td>14098190</td>\n",
       "      <td>advod</td>\n",
       "      <td>2481</td>\n",
       "      <td>tv</td>\n",
       "      <td>webos</td>\n",
       "      <td>137</td>\n",
       "      <td>4849</td>\n",
       "      <td>2316</td>\n",
       "      <td>5115</td>\n",
       "      <td>0.4850</td>\n",
       "    </tr>\n",
       "    <tr>\n",
       "      <th>5</th>\n",
       "      <td>2018-07-01 00:00:17.381</td>\n",
       "      <td>126496517</td>\n",
       "      <td>2919189</td>\n",
       "      <td>11639197</td>\n",
       "      <td>5002540</td>\n",
       "      <td>advod</td>\n",
       "      <td>2899</td>\n",
       "      <td>tv</td>\n",
       "      <td>xbox</td>\n",
       "      <td>600</td>\n",
       "      <td>2899</td>\n",
       "      <td>2898</td>\n",
       "      <td>2899</td>\n",
       "      <td>1.0000</td>\n",
       "    </tr>\n",
       "    <tr>\n",
       "      <th>6</th>\n",
       "      <td>2018-07-01 00:00:22.808</td>\n",
       "      <td>100783573</td>\n",
       "      <td>43617798</td>\n",
       "      <td>1303792</td>\n",
       "      <td>1303792</td>\n",
       "      <td>advod</td>\n",
       "      <td>6290</td>\n",
       "      <td>tv</td>\n",
       "      <td>sonyps4</td>\n",
       "      <td>633</td>\n",
       "      <td>6323</td>\n",
       "      <td>5819</td>\n",
       "      <td>6323</td>\n",
       "      <td>0.9950</td>\n",
       "    </tr>\n",
       "    <tr>\n",
       "      <th>7</th>\n",
       "      <td>2018-07-01 00:00:23.134</td>\n",
       "      <td>35464390</td>\n",
       "      <td>65712496</td>\n",
       "      <td>21294660</td>\n",
       "      <td>21294660</td>\n",
       "      <td>advod</td>\n",
       "      <td>1545</td>\n",
       "      <td>web</td>\n",
       "      <td>Windows_10</td>\n",
       "      <td>223</td>\n",
       "      <td>1324</td>\n",
       "      <td>1323</td>\n",
       "      <td>6626</td>\n",
       "      <td>0.2330</td>\n",
       "    </tr>\n",
       "    <tr>\n",
       "      <th>8</th>\n",
       "      <td>2018-07-01 00:00:28.297</td>\n",
       "      <td>115133012</td>\n",
       "      <td>16108561</td>\n",
       "      <td>3828702</td>\n",
       "      <td>2909961</td>\n",
       "      <td>advod</td>\n",
       "      <td>23137</td>\n",
       "      <td>tv</td>\n",
       "      <td>tizen</td>\n",
       "      <td>21</td>\n",
       "      <td>249</td>\n",
       "      <td>267</td>\n",
       "      <td>299</td>\n",
       "      <td>1.0000</td>\n",
       "    </tr>\n",
       "    <tr>\n",
       "      <th>9</th>\n",
       "      <td>2018-07-01 00:00:36.136</td>\n",
       "      <td>66132892</td>\n",
       "      <td>29875258</td>\n",
       "      <td>26055309</td>\n",
       "      <td>24947211</td>\n",
       "      <td>svod</td>\n",
       "      <td>21702</td>\n",
       "      <td>tv</td>\n",
       "      <td>tizen</td>\n",
       "      <td>599</td>\n",
       "      <td>2636</td>\n",
       "      <td>2616</td>\n",
       "      <td>3372</td>\n",
       "      <td>1.0000</td>\n",
       "    </tr>\n",
       "  </tbody>\n",
       "</table>\n",
       "</div>"
      ],
      "text/plain": [
       "   session_start_datetime    user_id   user_ip  primary_video_id  video_id  \\\n",
       "0 2018-07-01 00:00:02.135   21603820  27241033           9583642   9583642   \n",
       "1 2018-07-01 00:00:02.232   35636970  10887511          24645936  24645936   \n",
       "2 2018-07-01 00:00:06.961   78312976  15427448          25397362  23346676   \n",
       "3 2018-07-01 00:00:11.044  122261599  12021384           5205267  22898606   \n",
       "4 2018-07-01 00:00:14.054   53477088  65858458          14098190  14098190   \n",
       "5 2018-07-01 00:00:17.381  126496517   2919189          11639197   5002540   \n",
       "6 2018-07-01 00:00:22.808  100783573  43617798           1303792   1303792   \n",
       "7 2018-07-01 00:00:23.134   35464390  65712496          21294660  21294660   \n",
       "8 2018-07-01 00:00:28.297  115133012  16108561           3828702   2909961   \n",
       "9 2018-07-01 00:00:36.136   66132892  29875258          26055309  24947211   \n",
       "\n",
       "  vod_type  session_duration device_type   device_os  player_position_min  \\\n",
       "0     svod               688         web  Windows_10                 6940   \n",
       "1    advod              3174      mobile     android                  599   \n",
       "2    advod              3054          tv     samsung                  599   \n",
       "3     svod              2400          tv     netcast                  600   \n",
       "4    advod              2481          tv       webos                  137   \n",
       "5    advod              2899          tv        xbox                  600   \n",
       "6    advod              6290          tv     sonyps4                  633   \n",
       "7    advod              1545         web  Windows_10                  223   \n",
       "8    advod             23137          tv       tizen                   21   \n",
       "9     svod             21702          tv       tizen                  599   \n",
       "\n",
       "   player_position_max  time_cumsum_max  video_duration  watching_percentage  \n",
       "0                 6940               93            8198               0.0839  \n",
       "1                 3173                0            5297               0.5990  \n",
       "2                 3052             3032            3052               1.0000  \n",
       "3                 2400             2378            2638               0.9100  \n",
       "4                 4849             2316            5115               0.4850  \n",
       "5                 2899             2898            2899               1.0000  \n",
       "6                 6323             5819            6323               0.9950  \n",
       "7                 1324             1323            6626               0.2330  \n",
       "8                  249              267             299               1.0000  \n",
       "9                 2636             2616            3372               1.0000  "
      ]
     },
     "execution_count": 6,
     "metadata": {},
     "output_type": "execute_result"
    }
   ],
   "source": [
    "train_data[:10]"
   ]
  },
  {
   "cell_type": "code",
   "execution_count": 7,
   "metadata": {},
   "outputs": [
    {
     "data": {
      "text/plain": [
       "Timestamp('2018-09-30 23:59:59.577000')"
      ]
     },
     "execution_count": 7,
     "metadata": {},
     "output_type": "execute_result"
    }
   ],
   "source": [
    "train_data.session_start_datetime.max()"
   ]
  },
  {
   "cell_type": "markdown",
   "metadata": {},
   "source": [
    "## TOP-10"
   ]
  },
  {
   "cell_type": "code",
   "execution_count": 8,
   "metadata": {},
   "outputs": [],
   "source": [
    "top_10_videos = train_data.loc[train_data.session_start_datetime >= '2018-09-01 00:00:00',\n",
    "                               'primary_video_id'].value_counts()[:10].index.tolist()"
   ]
  },
  {
   "cell_type": "code",
   "execution_count": 9,
   "metadata": {},
   "outputs": [
    {
     "data": {
      "text/plain": [
       "[29114276,\n",
       " 19624341,\n",
       " 25397362,\n",
       " 17141087,\n",
       " 29646969,\n",
       " 31588514,\n",
       " 20236783,\n",
       " 3657616,\n",
       " 22526874,\n",
       " 24633210]"
      ]
     },
     "execution_count": 9,
     "metadata": {},
     "output_type": "execute_result"
    }
   ],
   "source": [
    "top_10_videos"
   ]
  },
  {
   "cell_type": "markdown",
   "metadata": {},
   "source": [
    "### save"
   ]
  },
  {
   "cell_type": "code",
   "execution_count": 10,
   "metadata": {},
   "outputs": [
    {
     "data": {
      "text/html": [
       "<div>\n",
       "<style scoped>\n",
       "    .dataframe tbody tr th:only-of-type {\n",
       "        vertical-align: middle;\n",
       "    }\n",
       "\n",
       "    .dataframe tbody tr th {\n",
       "        vertical-align: top;\n",
       "    }\n",
       "\n",
       "    .dataframe thead th {\n",
       "        text-align: right;\n",
       "    }\n",
       "</style>\n",
       "<table border=\"1\" class=\"dataframe\">\n",
       "  <thead>\n",
       "    <tr style=\"text-align: right;\">\n",
       "      <th></th>\n",
       "      <th>user_id</th>\n",
       "      <th>primary_video_id</th>\n",
       "    </tr>\n",
       "  </thead>\n",
       "  <tbody>\n",
       "    <tr>\n",
       "      <th>0</th>\n",
       "      <td>1088</td>\n",
       "      <td>29114276 19624341 25397362 17141087 29646969 3...</td>\n",
       "    </tr>\n",
       "    <tr>\n",
       "      <th>1</th>\n",
       "      <td>28577</td>\n",
       "      <td>29114276 19624341 25397362 17141087 29646969 3...</td>\n",
       "    </tr>\n",
       "    <tr>\n",
       "      <th>2</th>\n",
       "      <td>188122</td>\n",
       "      <td>29114276 19624341 25397362 17141087 29646969 3...</td>\n",
       "    </tr>\n",
       "    <tr>\n",
       "      <th>3</th>\n",
       "      <td>235599</td>\n",
       "      <td>29114276 19624341 25397362 17141087 29646969 3...</td>\n",
       "    </tr>\n",
       "    <tr>\n",
       "      <th>4</th>\n",
       "      <td>274770</td>\n",
       "      <td>29114276 19624341 25397362 17141087 29646969 3...</td>\n",
       "    </tr>\n",
       "    <tr>\n",
       "      <th>5</th>\n",
       "      <td>554364</td>\n",
       "      <td>29114276 19624341 25397362 17141087 29646969 3...</td>\n",
       "    </tr>\n",
       "    <tr>\n",
       "      <th>6</th>\n",
       "      <td>564435</td>\n",
       "      <td>29114276 19624341 25397362 17141087 29646969 3...</td>\n",
       "    </tr>\n",
       "    <tr>\n",
       "      <th>7</th>\n",
       "      <td>946127</td>\n",
       "      <td>29114276 19624341 25397362 17141087 29646969 3...</td>\n",
       "    </tr>\n",
       "    <tr>\n",
       "      <th>8</th>\n",
       "      <td>955946</td>\n",
       "      <td>29114276 19624341 25397362 17141087 29646969 3...</td>\n",
       "    </tr>\n",
       "    <tr>\n",
       "      <th>9</th>\n",
       "      <td>1223195</td>\n",
       "      <td>29114276 19624341 25397362 17141087 29646969 3...</td>\n",
       "    </tr>\n",
       "  </tbody>\n",
       "</table>\n",
       "</div>"
      ],
      "text/plain": [
       "   user_id                                   primary_video_id\n",
       "0     1088  29114276 19624341 25397362 17141087 29646969 3...\n",
       "1    28577  29114276 19624341 25397362 17141087 29646969 3...\n",
       "2   188122  29114276 19624341 25397362 17141087 29646969 3...\n",
       "3   235599  29114276 19624341 25397362 17141087 29646969 3...\n",
       "4   274770  29114276 19624341 25397362 17141087 29646969 3...\n",
       "5   554364  29114276 19624341 25397362 17141087 29646969 3...\n",
       "6   564435  29114276 19624341 25397362 17141087 29646969 3...\n",
       "7   946127  29114276 19624341 25397362 17141087 29646969 3...\n",
       "8   955946  29114276 19624341 25397362 17141087 29646969 3...\n",
       "9  1223195  29114276 19624341 25397362 17141087 29646969 3..."
      ]
     },
     "execution_count": 10,
     "metadata": {},
     "output_type": "execute_result"
    }
   ],
   "source": [
    "sample_submission = pd.read_csv('./output/sample_submission_full.csv')\n",
    "sample_submission.primary_video_id = ' '.join([str(v) for v in top_10_videos])\n",
    "sample_submission[:10]"
   ]
  },
  {
   "cell_type": "code",
   "execution_count": 11,
   "metadata": {},
   "outputs": [],
   "source": [
    "sample_submission.to_csv('./output/sample_submission_full_top10.csv.gz', header=True, index=False, compression='gzip')"
   ]
  },
  {
   "cell_type": "code",
   "execution_count": null,
   "metadata": {},
   "outputs": [],
   "source": []
  },
  {
   "cell_type": "code",
   "execution_count": null,
   "metadata": {},
   "outputs": [],
   "source": []
  }
 ],
 "metadata": {
  "kernelspec": {
   "display_name": "Python 3",
   "language": "python",
   "name": "python3"
  },
  "language_info": {
   "codemirror_mode": {
    "name": "ipython",
    "version": 3
   },
   "file_extension": ".py",
   "mimetype": "text/x-python",
   "name": "python",
   "nbconvert_exporter": "python",
   "pygments_lexer": "ipython3",
   "version": "3.5.2"
  }
 },
 "nbformat": 4,
 "nbformat_minor": 2
}

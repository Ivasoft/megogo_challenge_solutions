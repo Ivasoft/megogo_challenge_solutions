{
 "cells": [
  {
   "cell_type": "code",
   "execution_count": 1,
   "metadata": {},
   "outputs": [],
   "source": [
    "%matplotlib inline\n",
    "\n",
    "import matplotlib\n",
    "import matplotlib.pyplot as plt\n",
    "\n",
    "import implicit  # https://github.com/benfred/implicit\n",
    "from implicit.als import AlternatingLeastSquares\n",
    "from implicit.bpr import BayesianPersonalizedRanking\n",
    "from implicit.nearest_neighbours import bm25_weight\n",
    "\n",
    "import pandas as pd\n",
    "import numpy as np\n",
    "from sklearn import preprocessing\n",
    "from scipy.sparse import coo_matrix\n",
    "\n",
    "import dask\n",
    "from dask.diagnostics import ProgressBar\n",
    "\n",
    "import tqdm\n",
    "import codecs"
   ]
  },
  {
   "cell_type": "markdown",
   "metadata": {},
   "source": [
    "# Load data"
   ]
  },
  {
   "cell_type": "code",
   "execution_count": 2,
   "metadata": {},
   "outputs": [],
   "source": [
    "train_data = pd.read_csv('./output/train_data_full.csv')"
   ]
  },
  {
   "cell_type": "code",
   "execution_count": 3,
   "metadata": {},
   "outputs": [],
   "source": [
    "assert(len(train_data) == 7964397)"
   ]
  },
  {
   "cell_type": "code",
   "execution_count": 4,
   "metadata": {},
   "outputs": [
    {
     "data": {
      "text/plain": [
       "session_start_datetime     object\n",
       "user_id                     int64\n",
       "user_ip                     int64\n",
       "primary_video_id            int64\n",
       "video_id                    int64\n",
       "vod_type                   object\n",
       "session_duration            int64\n",
       "device_type                object\n",
       "device_os                  object\n",
       "player_position_min         int64\n",
       "player_position_max         int64\n",
       "time_cumsum_max             int64\n",
       "video_duration              int64\n",
       "watching_percentage       float64\n",
       "dtype: object"
      ]
     },
     "execution_count": 4,
     "metadata": {},
     "output_type": "execute_result"
    }
   ],
   "source": [
    "train_data.dtypes"
   ]
  },
  {
   "cell_type": "code",
   "execution_count": 5,
   "metadata": {},
   "outputs": [
    {
     "data": {
      "text/plain": [
       "<matplotlib.axes._subplots.AxesSubplot at 0x7fc97da82c50>"
      ]
     },
     "execution_count": 5,
     "metadata": {},
     "output_type": "execute_result"
    },
    {
     "data": {
      "image/png": "[encoded data removed]",
      "text/plain": [
       "<matplotlib.figure.Figure at 0x7fc97da82518>"
      ]
     },
     "metadata": {},
     "output_type": "display_data"
    }
   ],
   "source": [
    "train_data['watching_percentage'].hist()"
   ]
  },
  {
   "cell_type": "code",
   "execution_count": null,
   "metadata": {},
   "outputs": [],
   "source": []
  },
  {
   "cell_type": "code",
   "execution_count": null,
   "metadata": {},
   "outputs": [],
   "source": []
  },
  {
   "cell_type": "markdown",
   "metadata": {},
   "source": [
    "## ALS Implicit\n",
    "\n",
    "https://github.com/benfred/implicit"
   ]
  },
  {
   "cell_type": "markdown",
   "metadata": {},
   "source": [
    "### transform"
   ]
  },
  {
   "cell_type": "code",
   "execution_count": 6,
   "metadata": {},
   "outputs": [
    {
     "data": {
      "text/plain": [
       "array([    4442,     7360,     9559, ..., 33540856, 33547468, 33553858])"
      ]
     },
     "execution_count": 6,
     "metadata": {},
     "output_type": "execute_result"
    }
   ],
   "source": [
    "video_id_le = preprocessing.LabelEncoder()\n",
    "video_id_le.fit(train_data.primary_video_id)\n",
    "video_id_le.classes_"
   ]
  },
  {
   "cell_type": "code",
   "execution_count": 7,
   "metadata": {},
   "outputs": [],
   "source": [
    "train_data['primary_video_id_encoded'] = video_id_le.transform(train_data.primary_video_id)"
   ]
  },
  {
   "cell_type": "code",
   "execution_count": 8,
   "metadata": {},
   "outputs": [
    {
     "data": {
      "text/plain": [
       "array([      204,       368,       613, ..., 134215575, 134215993,\n",
       "       134217335])"
      ]
     },
     "execution_count": 8,
     "metadata": {},
     "output_type": "execute_result"
    }
   ],
   "source": [
    "user_id_le = preprocessing.LabelEncoder()\n",
    "user_id_le.fit(train_data.user_id)\n",
    "user_id_le.classes_"
   ]
  },
  {
   "cell_type": "code",
   "execution_count": 9,
   "metadata": {},
   "outputs": [],
   "source": [
    "train_data['user_id_encoded'] = user_id_le.transform(train_data.user_id)"
   ]
  },
  {
   "cell_type": "code",
   "execution_count": null,
   "metadata": {},
   "outputs": [],
   "source": []
  },
  {
   "cell_type": "code",
   "execution_count": 10,
   "metadata": {},
   "outputs": [
    {
     "data": {
      "text/plain": [
       "<402009x7221 sparse matrix of type '<class 'numpy.float32'>'\n",
       "\twith 4162327 stored elements in Compressed Sparse Row format>"
      ]
     },
     "execution_count": 10,
     "metadata": {},
     "output_type": "execute_result"
    }
   ],
   "source": [
    "train_data_matrix = coo_matrix(\n",
    "    (train_data.watching_percentage, (train_data.user_id_encoded, train_data.primary_video_id_encoded)),\n",
    "    shape=(train_data.user_id_encoded.max()+1, train_data.primary_video_id_encoded.max()+1),\n",
    "    dtype=np.float32).tocsr()\n",
    "train_data_matrix  # users-items"
   ]
  },
  {
   "cell_type": "code",
   "execution_count": 11,
   "metadata": {},
   "outputs": [
    {
     "data": {
      "text/plain": [
       "array([67.63284788, 40.93788386, 69.07483483, 44.73216062, 46.94768734,\n",
       "       34.10793002, 69.82786894,  2.86816791, 25.51397712, 43.50773169])"
      ]
     },
     "execution_count": 11,
     "metadata": {},
     "output_type": "execute_result"
    }
   ],
   "source": [
    "weighted_train_data_matrix = bm25_weight(train_data_matrix, B=0.7).tocsr() * 5\n",
    "weighted_train_data_matrix.data[:10]"
   ]
  },
  {
   "cell_type": "code",
   "execution_count": null,
   "metadata": {},
   "outputs": [],
   "source": []
  },
  {
   "cell_type": "markdown",
   "metadata": {},
   "source": [
    "### train"
   ]
  },
  {
   "cell_type": "code",
   "execution_count": 12,
   "metadata": {},
   "outputs": [
    {
     "name": "stderr",
     "output_type": "stream",
     "text": [
      "WARNING:root:OpenBLAS detected. Its highly recommend to set the environment variable 'export OPENBLAS_NUM_THREADS=1' to disable its internal multithreading\n",
      "100%|██████████| 15.0/15 [00:48<00:00,  2.75s/it, loss=0.0122]\n"
     ]
    }
   ],
   "source": [
    "model = AlternatingLeastSquares(factors=70, regularization=0.01, iterations=15,\n",
    "                                calculate_training_loss=True)\n",
    "model.fit(weighted_train_data_matrix.T)  # items-users"
   ]
  },
  {
   "cell_type": "code",
   "execution_count": 13,
   "metadata": {},
   "outputs": [],
   "source": [
    "# model = BayesianPersonalizedRanking(factors=100, regularization=0.01, iterations=15)\n",
    "# model.fit(train_data_matrix.T)  # items-users"
   ]
  },
  {
   "cell_type": "markdown",
   "metadata": {},
   "source": [
    "### predict"
   ]
  },
  {
   "cell_type": "code",
   "execution_count": 14,
   "metadata": {},
   "outputs": [],
   "source": [
    "def pred_fn(model, video_id_le, user_id, mat, qty):\n",
    "    return user_id, video_id_le.inverse_transform([r[0] for r in model.recommend(user_id, mat, qty)])"
   ]
  },
  {
   "cell_type": "code",
   "execution_count": 15,
   "metadata": {
    "scrolled": true
   },
   "outputs": [
    {
     "name": "stderr",
     "output_type": "stream",
     "text": [
      "100%|██████████| 402009/402009 [00:29<00:00, 13597.52it/s]\n"
     ]
    }
   ],
   "source": [
    "users_encoded_list = range(train_data.user_id_encoded.max()+1)\n",
    "delayed_results = []\n",
    "\n",
    "with tqdm.tqdm(total=len(users_encoded_list)) as progress:\n",
    "    for encoded_user_id in users_encoded_list:\n",
    "        delayed_results.append(\n",
    "            dask.delayed(pred_fn)(model, video_id_le, encoded_user_id, weighted_train_data_matrix, 10))\n",
    "        progress.update(1)"
   ]
  },
  {
   "cell_type": "code",
   "execution_count": 16,
   "metadata": {},
   "outputs": [
    {
     "name": "stdout",
     "output_type": "stream",
     "text": [
      "[########################################] | 100% Completed |  7min 44.7s\n"
     ]
    }
   ],
   "source": [
    "with ProgressBar():\n",
    "    predicted_results = dask.compute(*delayed_results)"
   ]
  },
  {
   "cell_type": "code",
   "execution_count": 17,
   "metadata": {},
   "outputs": [],
   "source": [
    "predicted_df = pd.DataFrame({\n",
    "    'user_id': user_id_le.inverse_transform([r[0] for r in predicted_results]),\n",
    "    'predicted_primary_video_id': [r[1] for r in predicted_results]\n",
    "}, columns=['user_id', 'predicted_primary_video_id'])"
   ]
  },
  {
   "cell_type": "code",
   "execution_count": 18,
   "metadata": {},
   "outputs": [
    {
     "data": {
      "text/html": [
       "<div>\n",
       "<style scoped>\n",
       "    .dataframe tbody tr th:only-of-type {\n",
       "        vertical-align: middle;\n",
       "    }\n",
       "\n",
       "    .dataframe tbody tr th {\n",
       "        vertical-align: top;\n",
       "    }\n",
       "\n",
       "    .dataframe thead th {\n",
       "        text-align: right;\n",
       "    }\n",
       "</style>\n",
       "<table border=\"1\" class=\"dataframe\">\n",
       "  <thead>\n",
       "    <tr style=\"text-align: right;\">\n",
       "      <th></th>\n",
       "      <th>user_id</th>\n",
       "      <th>predicted_primary_video_id</th>\n",
       "    </tr>\n",
       "  </thead>\n",
       "  <tbody>\n",
       "    <tr>\n",
       "      <th>0</th>\n",
       "      <td>204</td>\n",
       "      <td>[13619739, 24781930, 15227534, 24291250, 16646...</td>\n",
       "    </tr>\n",
       "    <tr>\n",
       "      <th>1</th>\n",
       "      <td>368</td>\n",
       "      <td>[30566249, 12570234, 13378235, 14143501, 21308...</td>\n",
       "    </tr>\n",
       "    <tr>\n",
       "      <th>2</th>\n",
       "      <td>613</td>\n",
       "      <td>[7801099, 11536584, 26455666, 13646802, 292460...</td>\n",
       "    </tr>\n",
       "    <tr>\n",
       "      <th>3</th>\n",
       "      <td>1325</td>\n",
       "      <td>[30986288, 19624341, 5159408, 29646969, 112698...</td>\n",
       "    </tr>\n",
       "    <tr>\n",
       "      <th>4</th>\n",
       "      <td>1410</td>\n",
       "      <td>[30986288, 22045752, 29276476, 22777163, 26183...</td>\n",
       "    </tr>\n",
       "    <tr>\n",
       "      <th>5</th>\n",
       "      <td>1894</td>\n",
       "      <td>[11937693, 19624341, 32222690, 3696413, 958364...</td>\n",
       "    </tr>\n",
       "    <tr>\n",
       "      <th>6</th>\n",
       "      <td>2026</td>\n",
       "      <td>[22773719, 18065882, 30714570, 11653814, 19156...</td>\n",
       "    </tr>\n",
       "    <tr>\n",
       "      <th>7</th>\n",
       "      <td>2369</td>\n",
       "      <td>[25075677, 2968691, 16088655, 25004533, 116391...</td>\n",
       "    </tr>\n",
       "    <tr>\n",
       "      <th>8</th>\n",
       "      <td>2737</td>\n",
       "      <td>[27946137, 10979465, 16056034, 6538348, 272973...</td>\n",
       "    </tr>\n",
       "    <tr>\n",
       "      <th>9</th>\n",
       "      <td>2745</td>\n",
       "      <td>[22526874, 6597685, 20236783, 6946785, 2175733...</td>\n",
       "    </tr>\n",
       "  </tbody>\n",
       "</table>\n",
       "</div>"
      ],
      "text/plain": [
       "   user_id                         predicted_primary_video_id\n",
       "0      204  [13619739, 24781930, 15227534, 24291250, 16646...\n",
       "1      368  [30566249, 12570234, 13378235, 14143501, 21308...\n",
       "2      613  [7801099, 11536584, 26455666, 13646802, 292460...\n",
       "3     1325  [30986288, 19624341, 5159408, 29646969, 112698...\n",
       "4     1410  [30986288, 22045752, 29276476, 22777163, 26183...\n",
       "5     1894  [11937693, 19624341, 32222690, 3696413, 958364...\n",
       "6     2026  [22773719, 18065882, 30714570, 11653814, 19156...\n",
       "7     2369  [25075677, 2968691, 16088655, 25004533, 116391...\n",
       "8     2737  [27946137, 10979465, 16056034, 6538348, 272973...\n",
       "9     2745  [22526874, 6597685, 20236783, 6946785, 2175733..."
      ]
     },
     "execution_count": 18,
     "metadata": {},
     "output_type": "execute_result"
    }
   ],
   "source": [
    "predicted_df[:10]"
   ]
  },
  {
   "cell_type": "markdown",
   "metadata": {},
   "source": [
    "### save"
   ]
  },
  {
   "cell_type": "code",
   "execution_count": 19,
   "metadata": {},
   "outputs": [
    {
     "data": {
      "text/html": [
       "<div>\n",
       "<style scoped>\n",
       "    .dataframe tbody tr th:only-of-type {\n",
       "        vertical-align: middle;\n",
       "    }\n",
       "\n",
       "    .dataframe tbody tr th {\n",
       "        vertical-align: top;\n",
       "    }\n",
       "\n",
       "    .dataframe thead th {\n",
       "        text-align: right;\n",
       "    }\n",
       "</style>\n",
       "<table border=\"1\" class=\"dataframe\">\n",
       "  <thead>\n",
       "    <tr style=\"text-align: right;\">\n",
       "      <th></th>\n",
       "      <th>user_id</th>\n",
       "      <th>primary_video_id</th>\n",
       "      <th>predicted_primary_video_id</th>\n",
       "    </tr>\n",
       "  </thead>\n",
       "  <tbody>\n",
       "    <tr>\n",
       "      <th>0</th>\n",
       "      <td>1088</td>\n",
       "      <td>25397362 20236783 24633210 2677761 31588514 22...</td>\n",
       "      <td>NaN</td>\n",
       "    </tr>\n",
       "    <tr>\n",
       "      <th>1</th>\n",
       "      <td>28577</td>\n",
       "      <td>25397362 20236783 24633210 2677761 31588514 22...</td>\n",
       "      <td>[22575620, 5760990, 29718043, 33252778, 183690...</td>\n",
       "    </tr>\n",
       "    <tr>\n",
       "      <th>2</th>\n",
       "      <td>188122</td>\n",
       "      <td>25397362 20236783 24633210 2677761 31588514 22...</td>\n",
       "      <td>[27740348, 26997030, 14414023, 29010961, 48740...</td>\n",
       "    </tr>\n",
       "    <tr>\n",
       "      <th>3</th>\n",
       "      <td>235599</td>\n",
       "      <td>25397362 20236783 24633210 2677761 31588514 22...</td>\n",
       "      <td>[6597685, 21757334, 17487453, 33501500, 279811...</td>\n",
       "    </tr>\n",
       "    <tr>\n",
       "      <th>4</th>\n",
       "      <td>274770</td>\n",
       "      <td>25397362 20236783 24633210 2677761 31588514 22...</td>\n",
       "      <td>[27946137, 16056034, 31382698, 28776964, 25656...</td>\n",
       "    </tr>\n",
       "    <tr>\n",
       "      <th>5</th>\n",
       "      <td>554364</td>\n",
       "      <td>25397362 20236783 24633210 2677761 31588514 22...</td>\n",
       "      <td>[10735044, 25146623, 14414023, 723695, 1449652...</td>\n",
       "    </tr>\n",
       "    <tr>\n",
       "      <th>6</th>\n",
       "      <td>564435</td>\n",
       "      <td>25397362 20236783 24633210 2677761 31588514 22...</td>\n",
       "      <td>[192557, 4460659, 12153123, 30291128, 18298571...</td>\n",
       "    </tr>\n",
       "    <tr>\n",
       "      <th>7</th>\n",
       "      <td>946127</td>\n",
       "      <td>25397362 20236783 24633210 2677761 31588514 22...</td>\n",
       "      <td>[31148166, 21426834, 11653814, 29718043, 23786...</td>\n",
       "    </tr>\n",
       "    <tr>\n",
       "      <th>8</th>\n",
       "      <td>955946</td>\n",
       "      <td>25397362 20236783 24633210 2677761 31588514 22...</td>\n",
       "      <td>[23987196, 22439208, 22126352, 1958224, 305458...</td>\n",
       "    </tr>\n",
       "    <tr>\n",
       "      <th>9</th>\n",
       "      <td>1223195</td>\n",
       "      <td>25397362 20236783 24633210 2677761 31588514 22...</td>\n",
       "      <td>[5794535, 5760990, 3781036, 33252778, 29957220...</td>\n",
       "    </tr>\n",
       "  </tbody>\n",
       "</table>\n",
       "</div>"
      ],
      "text/plain": [
       "   user_id                                   primary_video_id  \\\n",
       "0     1088  25397362 20236783 24633210 2677761 31588514 22...   \n",
       "1    28577  25397362 20236783 24633210 2677761 31588514 22...   \n",
       "2   188122  25397362 20236783 24633210 2677761 31588514 22...   \n",
       "3   235599  25397362 20236783 24633210 2677761 31588514 22...   \n",
       "4   274770  25397362 20236783 24633210 2677761 31588514 22...   \n",
       "5   554364  25397362 20236783 24633210 2677761 31588514 22...   \n",
       "6   564435  25397362 20236783 24633210 2677761 31588514 22...   \n",
       "7   946127  25397362 20236783 24633210 2677761 31588514 22...   \n",
       "8   955946  25397362 20236783 24633210 2677761 31588514 22...   \n",
       "9  1223195  25397362 20236783 24633210 2677761 31588514 22...   \n",
       "\n",
       "                          predicted_primary_video_id  \n",
       "0                                                NaN  \n",
       "1  [22575620, 5760990, 29718043, 33252778, 183690...  \n",
       "2  [27740348, 26997030, 14414023, 29010961, 48740...  \n",
       "3  [6597685, 21757334, 17487453, 33501500, 279811...  \n",
       "4  [27946137, 16056034, 31382698, 28776964, 25656...  \n",
       "5  [10735044, 25146623, 14414023, 723695, 1449652...  \n",
       "6  [192557, 4460659, 12153123, 30291128, 18298571...  \n",
       "7  [31148166, 21426834, 11653814, 29718043, 23786...  \n",
       "8  [23987196, 22439208, 22126352, 1958224, 305458...  \n",
       "9  [5794535, 5760990, 3781036, 33252778, 29957220...  "
      ]
     },
     "execution_count": 19,
     "metadata": {},
     "output_type": "execute_result"
    }
   ],
   "source": [
    "sample_submission = pd.read_csv('./output/sample_submission_full.csv')\n",
    "sample_submission = sample_submission.join(predicted_df.set_index('user_id'), 'user_id')\n",
    "sample_submission[:10]"
   ]
  },
  {
   "cell_type": "code",
   "execution_count": 20,
   "metadata": {},
   "outputs": [],
   "source": [
    "sample_submission['primary_video_id'] = sample_submission.predicted_primary_video_id.combine_first(\n",
    "    sample_submission.primary_video_id)\n",
    "del sample_submission['predicted_primary_video_id']"
   ]
  },
  {
   "cell_type": "code",
   "execution_count": null,
   "metadata": {},
   "outputs": [],
   "source": [
    "sample_submission.to_csv('./output/sample_submission_full_implicit_als.csv.gz',\n",
    "                         header=True, index=False, compression='gzip')"
   ]
  },
  {
   "cell_type": "code",
   "execution_count": null,
   "metadata": {},
   "outputs": [],
   "source": []
  },
  {
   "cell_type": "code",
   "execution_count": null,
   "metadata": {},
   "outputs": [],
   "source": []
  }
 ],
 "metadata": {
  "kernelspec": {
   "display_name": "Python 3",
   "language": "python",
   "name": "python3"
  },
  "language_info": {
   "codemirror_mode": {
    "name": "ipython",
    "version": 3
   },
   "file_extension": ".py",
   "mimetype": "text/x-python",
   "name": "python",
   "nbconvert_exporter": "python",
   "pygments_lexer": "ipython3",
   "version": "3.5.2"
  }
 },
 "nbformat": 4,
 "nbformat_minor": 2
}
